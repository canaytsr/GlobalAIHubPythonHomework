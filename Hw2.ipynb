{
  "nbformat": 4,
  "nbformat_minor": 0,
  "metadata": {
    "colab": {
      "name": "Hw2.ipynb",
      "provenance": [],
      "collapsed_sections": [],
      "include_colab_link": true
    },
    "kernelspec": {
      "name": "python3",
      "display_name": "Python 3"
    }
  },
  "cells": [
    {
      "cell_type": "markdown",
      "metadata": {
        "id": "view-in-github",
        "colab_type": "text"
      },
      "source": [
        "<a href=\"https://colab.research.google.com/github/canaytsr/GlobalAIHubPythonHomework/blob/main/Hw2.ipynb\" target=\"_parent\"><img src=\"https://colab.research.google.com/assets/colab-badge.svg\" alt=\"Open In Colab\"/></a>"
      ]
    },
    {
      "cell_type": "code",
      "metadata": {
        "id": "VZkT92uYPVgz",
        "colab": {
          "base_uri": "https://localhost:8080/"
        },
        "outputId": "af215bde-940b-4b67-f048-bdf9f35ef585"
      },
      "source": [
        "#Import Boston Dataset from sklearn dataset class\r\n",
        "from sklearn.datasets import load_boston\r\n",
        "import numpy as np\r\n",
        "\r\n",
        "boston = load_boston()\r\n",
        "print(boston.feature_names)\r\n",
        "print(type(boston))\r\n",
        "print(boston.data.shape)\r\n",
        "\r\n"
      ],
      "execution_count": 74,
      "outputs": [
        {
          "output_type": "stream",
          "text": [
            "['CRIM' 'ZN' 'INDUS' 'CHAS' 'NOX' 'RM' 'AGE' 'DIS' 'RAD' 'TAX' 'PTRATIO'\n",
            " 'B' 'LSTAT']\n",
            "<class 'sklearn.utils.Bunch'>\n",
            "(506, 13)\n"
          ],
          "name": "stdout"
        }
      ]
    },
    {
      "cell_type": "code",
      "metadata": {
        "id": "ahUgSdqcZBrK",
        "colab": {
          "base_uri": "https://localhost:8080/",
          "height": 1000
        },
        "outputId": "ab419680-982d-4fca-e37a-91fddac962b1"
      },
      "source": [
        "#Exploring and analysing raw data.\r\n",
        "import seaborn as sns\r\n",
        "import matplotlib.pyplot as plt\r\n",
        "import pandas as pd\r\n",
        "from pandas.plotting import scatter_matrix\r\n",
        "\r\n",
        "boston_pd = pd.DataFrame(boston.data)\r\n",
        "boston_pd.columns = boston.feature_names\r\n",
        "print(boston_pd.head())\r\n",
        "print(boston_pd.info())\r\n",
        "\r\n",
        "boston_pd.describe()# summary statistics\r\n",
        "\r\n",
        "B= pd.DataFrame(boston.data, columns = boston.feature_names)\r\n",
        "corr_df = B.corr()#corr_matrix\r\n",
        "print(corr_df)\r\n",
        "B.isna().sum()\r\n",
        "\r\n",
        "ax = sns.heatmap(corr_df,vmin=-1, vmax=1, center=0,cmap=sns.diverging_palette(20, 220, n=200),square=True)\r\n",
        "ax.set_xticklabels(ax.get_xticklabels(),rotation=45,horizontalalignment='right')\r\n",
        "\r\n",
        "boston_pd.isnull().sum()\r\n"
      ],
      "execution_count": 72,
      "outputs": [
        {
          "output_type": "stream",
          "text": [
            "      CRIM    ZN  INDUS  CHAS    NOX  ...  RAD    TAX  PTRATIO       B  LSTAT\n",
            "0  0.00632  18.0   2.31   0.0  0.538  ...  1.0  296.0     15.3  396.90   4.98\n",
            "1  0.02731   0.0   7.07   0.0  0.469  ...  2.0  242.0     17.8  396.90   9.14\n",
            "2  0.02729   0.0   7.07   0.0  0.469  ...  2.0  242.0     17.8  392.83   4.03\n",
            "3  0.03237   0.0   2.18   0.0  0.458  ...  3.0  222.0     18.7  394.63   2.94\n",
            "4  0.06905   0.0   2.18   0.0  0.458  ...  3.0  222.0     18.7  396.90   5.33\n",
            "\n",
            "[5 rows x 13 columns]\n",
            "<class 'pandas.core.frame.DataFrame'>\n",
            "RangeIndex: 506 entries, 0 to 505\n",
            "Data columns (total 13 columns):\n",
            " #   Column   Non-Null Count  Dtype  \n",
            "---  ------   --------------  -----  \n",
            " 0   CRIM     506 non-null    float64\n",
            " 1   ZN       506 non-null    float64\n",
            " 2   INDUS    506 non-null    float64\n",
            " 3   CHAS     506 non-null    float64\n",
            " 4   NOX      506 non-null    float64\n",
            " 5   RM       506 non-null    float64\n",
            " 6   AGE      506 non-null    float64\n",
            " 7   DIS      506 non-null    float64\n",
            " 8   RAD      506 non-null    float64\n",
            " 9   TAX      506 non-null    float64\n",
            " 10  PTRATIO  506 non-null    float64\n",
            " 11  B        506 non-null    float64\n",
            " 12  LSTAT    506 non-null    float64\n",
            "dtypes: float64(13)\n",
            "memory usage: 51.5 KB\n",
            "None\n",
            "             CRIM        ZN     INDUS  ...   PTRATIO         B     LSTAT\n",
            "CRIM     1.000000 -0.200469  0.406583  ...  0.289946 -0.385064  0.455621\n",
            "ZN      -0.200469  1.000000 -0.533828  ... -0.391679  0.175520 -0.412995\n",
            "INDUS    0.406583 -0.533828  1.000000  ...  0.383248 -0.356977  0.603800\n",
            "CHAS    -0.055892 -0.042697  0.062938  ... -0.121515  0.048788 -0.053929\n",
            "NOX      0.420972 -0.516604  0.763651  ...  0.188933 -0.380051  0.590879\n",
            "RM      -0.219247  0.311991 -0.391676  ... -0.355501  0.128069 -0.613808\n",
            "AGE      0.352734 -0.569537  0.644779  ...  0.261515 -0.273534  0.602339\n",
            "DIS     -0.379670  0.664408 -0.708027  ... -0.232471  0.291512 -0.496996\n",
            "RAD      0.625505 -0.311948  0.595129  ...  0.464741 -0.444413  0.488676\n",
            "TAX      0.582764 -0.314563  0.720760  ...  0.460853 -0.441808  0.543993\n",
            "PTRATIO  0.289946 -0.391679  0.383248  ...  1.000000 -0.177383  0.374044\n",
            "B       -0.385064  0.175520 -0.356977  ... -0.177383  1.000000 -0.366087\n",
            "LSTAT    0.455621 -0.412995  0.603800  ...  0.374044 -0.366087  1.000000\n",
            "\n",
            "[13 rows x 13 columns]\n"
          ],
          "name": "stdout"
        },
        {
          "output_type": "execute_result",
          "data": {
            "text/plain": [
              "CRIM       0\n",
              "ZN         0\n",
              "INDUS      0\n",
              "CHAS       0\n",
              "NOX        0\n",
              "RM         0\n",
              "AGE        0\n",
              "DIS        0\n",
              "RAD        0\n",
              "TAX        0\n",
              "PTRATIO    0\n",
              "B          0\n",
              "LSTAT      0\n",
              "dtype: int64"
            ]
          },
          "metadata": {
            "tags": []
          },
          "execution_count": 72
        },
        {
          "output_type": "display_data",
          "data": {
            "image/png": "[encoded data removed]",
            "text/plain": [
              "<Figure size 432x288 with 2 Axes>"
            ]
          },
          "metadata": {
            "tags": [],
            "needs_background": "light"
          }
        }
      ]
    },
    {
      "cell_type": "code",
      "metadata": {
        "id": "IKjICxl0ZRlh",
        "colab": {
          "base_uri": "https://localhost:8080/",
          "height": 453
        },
        "outputId": "d9c18ddc-9291-496f-8d80-6b92325c142d"
      },
      "source": [
        "#Do preprocessing for regression.\r\n",
        "from sklearn import preprocessing\r\n",
        "from sklearn.preprocessing import StandardScaler\r\n",
        "\r\n",
        "X, y = load_boston(return_X_y = True)\r\n",
        "print(X.shape)\r\n",
        "print(y.shape)\r\n",
        "\r\n",
        "X = boston_pd.drop(['CRIM'] ,axis=1)\r\n",
        "X1=preprocessing.scale(X)\r\n",
        "X1=pd.DataFrame(X1,columns=X.columns)\r\n",
        "\r\n",
        "y= boston_pd[['CRIM']]# original target variable \r\n",
        "y1=preprocessing.scale(y)\r\n",
        "y1=pd.DataFrame(y1,columns=y.columns)\r\n",
        "y1\r\n",
        "X1"
      ],
      "execution_count": 75,
      "outputs": [
        {
          "output_type": "stream",
          "text": [
            "(506, 13)\n",
            "(506,)\n"
          ],
          "name": "stdout"
        },
        {
          "output_type": "execute_result",
          "data": {
            "text/html": [
              "<div>\n",
              "<style scoped>\n",
              "    .dataframe tbody tr th:only-of-type {\n",
              "        vertical-align: middle;\n",
              "    }\n",
              "\n",
              "    .dataframe tbody tr th {\n",
              "        vertical-align: top;\n",
              "    }\n",
              "\n",
              "    .dataframe thead th {\n",
              "        text-align: right;\n",
              "    }\n",
              "</style>\n",
              "<table border=\"1\" class=\"dataframe\">\n",
              "  <thead>\n",
              "    <tr style=\"text-align: right;\">\n",
              "      <th></th>\n",
              "      <th>ZN</th>\n",
              "      <th>INDUS</th>\n",
              "      <th>CHAS</th>\n",
              "      <th>NOX</th>\n",
              "      <th>RM</th>\n",
              "      <th>AGE</th>\n",
              "      <th>DIS</th>\n",
              "      <th>RAD</th>\n",
              "      <th>TAX</th>\n",
              "      <th>PTRATIO</th>\n",
              "      <th>B</th>\n",
              "      <th>LSTAT</th>\n",
              "    </tr>\n",
              "  </thead>\n",
              "  <tbody>\n",
              "    <tr>\n",
              "      <th>0</th>\n",
              "      <td>0.284830</td>\n",
              "      <td>-1.287909</td>\n",
              "      <td>-0.272599</td>\n",
              "      <td>-0.144217</td>\n",
              "      <td>0.413672</td>\n",
              "      <td>-0.120013</td>\n",
              "      <td>0.140214</td>\n",
              "      <td>-0.982843</td>\n",
              "      <td>-0.666608</td>\n",
              "      <td>-1.459000</td>\n",
              "      <td>0.441052</td>\n",
              "      <td>-1.075562</td>\n",
              "    </tr>\n",
              "    <tr>\n",
              "      <th>1</th>\n",
              "      <td>-0.487722</td>\n",
              "      <td>-0.593381</td>\n",
              "      <td>-0.272599</td>\n",
              "      <td>-0.740262</td>\n",
              "      <td>0.194274</td>\n",
              "      <td>0.367166</td>\n",
              "      <td>0.557160</td>\n",
              "      <td>-0.867883</td>\n",
              "      <td>-0.987329</td>\n",
              "      <td>-0.303094</td>\n",
              "      <td>0.441052</td>\n",
              "      <td>-0.492439</td>\n",
              "    </tr>\n",
              "    <tr>\n",
              "      <th>2</th>\n",
              "      <td>-0.487722</td>\n",
              "      <td>-0.593381</td>\n",
              "      <td>-0.272599</td>\n",
              "      <td>-0.740262</td>\n",
              "      <td>1.282714</td>\n",
              "      <td>-0.265812</td>\n",
              "      <td>0.557160</td>\n",
              "      <td>-0.867883</td>\n",
              "      <td>-0.987329</td>\n",
              "      <td>-0.303094</td>\n",
              "      <td>0.396427</td>\n",
              "      <td>-1.208727</td>\n",
              "    </tr>\n",
              "    <tr>\n",
              "      <th>3</th>\n",
              "      <td>-0.487722</td>\n",
              "      <td>-1.306878</td>\n",
              "      <td>-0.272599</td>\n",
              "      <td>-0.835284</td>\n",
              "      <td>1.016303</td>\n",
              "      <td>-0.809889</td>\n",
              "      <td>1.077737</td>\n",
              "      <td>-0.752922</td>\n",
              "      <td>-1.106115</td>\n",
              "      <td>0.113032</td>\n",
              "      <td>0.416163</td>\n",
              "      <td>-1.361517</td>\n",
              "    </tr>\n",
              "    <tr>\n",
              "      <th>4</th>\n",
              "      <td>-0.487722</td>\n",
              "      <td>-1.306878</td>\n",
              "      <td>-0.272599</td>\n",
              "      <td>-0.835284</td>\n",
              "      <td>1.228577</td>\n",
              "      <td>-0.511180</td>\n",
              "      <td>1.077737</td>\n",
              "      <td>-0.752922</td>\n",
              "      <td>-1.106115</td>\n",
              "      <td>0.113032</td>\n",
              "      <td>0.441052</td>\n",
              "      <td>-1.026501</td>\n",
              "    </tr>\n",
              "    <tr>\n",
              "      <th>...</th>\n",
              "      <td>...</td>\n",
              "      <td>...</td>\n",
              "      <td>...</td>\n",
              "      <td>...</td>\n",
              "      <td>...</td>\n",
              "      <td>...</td>\n",
              "      <td>...</td>\n",
              "      <td>...</td>\n",
              "      <td>...</td>\n",
              "      <td>...</td>\n",
              "      <td>...</td>\n",
              "      <td>...</td>\n",
              "    </tr>\n",
              "    <tr>\n",
              "      <th>501</th>\n",
              "      <td>-0.487722</td>\n",
              "      <td>0.115738</td>\n",
              "      <td>-0.272599</td>\n",
              "      <td>0.158124</td>\n",
              "      <td>0.439316</td>\n",
              "      <td>0.018673</td>\n",
              "      <td>-0.625796</td>\n",
              "      <td>-0.982843</td>\n",
              "      <td>-0.803212</td>\n",
              "      <td>1.176466</td>\n",
              "      <td>0.387217</td>\n",
              "      <td>-0.418147</td>\n",
              "    </tr>\n",
              "    <tr>\n",
              "      <th>502</th>\n",
              "      <td>-0.487722</td>\n",
              "      <td>0.115738</td>\n",
              "      <td>-0.272599</td>\n",
              "      <td>0.158124</td>\n",
              "      <td>-0.234548</td>\n",
              "      <td>0.288933</td>\n",
              "      <td>-0.716639</td>\n",
              "      <td>-0.982843</td>\n",
              "      <td>-0.803212</td>\n",
              "      <td>1.176466</td>\n",
              "      <td>0.441052</td>\n",
              "      <td>-0.500850</td>\n",
              "    </tr>\n",
              "    <tr>\n",
              "      <th>503</th>\n",
              "      <td>-0.487722</td>\n",
              "      <td>0.115738</td>\n",
              "      <td>-0.272599</td>\n",
              "      <td>0.158124</td>\n",
              "      <td>0.984960</td>\n",
              "      <td>0.797449</td>\n",
              "      <td>-0.773684</td>\n",
              "      <td>-0.982843</td>\n",
              "      <td>-0.803212</td>\n",
              "      <td>1.176466</td>\n",
              "      <td>0.441052</td>\n",
              "      <td>-0.983048</td>\n",
              "    </tr>\n",
              "    <tr>\n",
              "      <th>504</th>\n",
              "      <td>-0.487722</td>\n",
              "      <td>0.115738</td>\n",
              "      <td>-0.272599</td>\n",
              "      <td>0.158124</td>\n",
              "      <td>0.725672</td>\n",
              "      <td>0.736996</td>\n",
              "      <td>-0.668437</td>\n",
              "      <td>-0.982843</td>\n",
              "      <td>-0.803212</td>\n",
              "      <td>1.176466</td>\n",
              "      <td>0.403225</td>\n",
              "      <td>-0.865302</td>\n",
              "    </tr>\n",
              "    <tr>\n",
              "      <th>505</th>\n",
              "      <td>-0.487722</td>\n",
              "      <td>0.115738</td>\n",
              "      <td>-0.272599</td>\n",
              "      <td>0.158124</td>\n",
              "      <td>-0.362767</td>\n",
              "      <td>0.434732</td>\n",
              "      <td>-0.613246</td>\n",
              "      <td>-0.982843</td>\n",
              "      <td>-0.803212</td>\n",
              "      <td>1.176466</td>\n",
              "      <td>0.441052</td>\n",
              "      <td>-0.669058</td>\n",
              "    </tr>\n",
              "  </tbody>\n",
              "</table>\n",
              "<p>506 rows × 12 columns</p>\n",
              "</div>"
            ],
            "text/plain": [
              "           ZN     INDUS      CHAS  ...   PTRATIO         B     LSTAT\n",
              "0    0.284830 -1.287909 -0.272599  ... -1.459000  0.441052 -1.075562\n",
              "1   -0.487722 -0.593381 -0.272599  ... -0.303094  0.441052 -0.492439\n",
              "2   -0.487722 -0.593381 -0.272599  ... -0.303094  0.396427 -1.208727\n",
              "3   -0.487722 -1.306878 -0.272599  ...  0.113032  0.416163 -1.361517\n",
              "4   -0.487722 -1.306878 -0.272599  ...  0.113032  0.441052 -1.026501\n",
              "..        ...       ...       ...  ...       ...       ...       ...\n",
              "501 -0.487722  0.115738 -0.272599  ...  1.176466  0.387217 -0.418147\n",
              "502 -0.487722  0.115738 -0.272599  ...  1.176466  0.441052 -0.500850\n",
              "503 -0.487722  0.115738 -0.272599  ...  1.176466  0.441052 -0.983048\n",
              "504 -0.487722  0.115738 -0.272599  ...  1.176466  0.403225 -0.865302\n",
              "505 -0.487722  0.115738 -0.272599  ...  1.176466  0.441052 -0.669058\n",
              "\n",
              "[506 rows x 12 columns]"
            ]
          },
          "metadata": {
            "tags": []
          },
          "execution_count": 75
        }
      ]
    },
    {
      "cell_type": "code",
      "metadata": {
        "id": "NZHxK8E5YUFO",
        "colab": {
          "base_uri": "https://localhost:8080/"
        },
        "outputId": "0ae6793f-219b-42d6-bdc7-b428467c01a7"
      },
      "source": [
        "# Split the data into a test set and a training set X_train, X_test, y_train, y_test = \r\n",
        "from sklearn.model_selection import train_test_split\r\n",
        "X_train, X_test, y_train,y_test=train_test_split(X, y,train_size=0.7, test_size=0.3, random_state=42) \r\n",
        "print(X_train.shape)\r\n"
      ],
      "execution_count": 76,
      "outputs": [
        {
          "output_type": "stream",
          "text": [
            "(354, 12)\n"
          ],
          "name": "stdout"
        }
      ]
    },
    {
      "cell_type": "code",
      "metadata": {
        "colab": {
          "base_uri": "https://localhost:8080/"
        },
        "id": "-Cg4Zi7riEr9",
        "outputId": "79e11b65-7f97-4817-9d87-58cc94f34133"
      },
      "source": [
        "from sklearn.preprocessing import MinMaxScaler\r\n",
        "scaler = MinMaxScaler()\r\n",
        "X_train = scaler.fit_transform(X_train)\r\n",
        "X_train"
      ],
      "execution_count": 79,
      "outputs": [
        {
          "output_type": "execute_result",
          "data": {
            "text/plain": [
              "array([[0.        , 0.03656238, 0.        , ..., 0.64893617, 0.99299007,\n",
              "        0.09602649],\n",
              "       [0.        , 0.33169996, 0.        , ..., 0.55319149, 0.99092239,\n",
              "        0.28449227],\n",
              "       [0.        , 0.21485111, 0.        , ..., 0.56382979, 1.        ,\n",
              "        0.23399558],\n",
              "       ...,\n",
              "       [0.84210526, 0.03015454, 0.        , ..., 0.46808511, 0.98497151,\n",
              "        0.11754967],\n",
              "       [0.        , 0.63663777, 0.        , ..., 0.80851064, 0.27618639,\n",
              "        0.59437086],\n",
              "       [0.        , 0.27704485, 0.        , ..., 0.88297872, 0.1777195 ,\n",
              "        0.24558499]])"
            ]
          },
          "metadata": {
            "tags": []
          },
          "execution_count": 79
        }
      ]
    },
    {
      "cell_type": "code",
      "metadata": {
        "id": "71AdhJ01YIum",
        "colab": {
          "base_uri": "https://localhost:8080/"
        },
        "outputId": "e28ac468-5f33-465d-a35f-e45e9f995215"
      },
      "source": [
        "#Try Ridge and Lasso Regression models with at least 5 different alpha value for each.\r\n",
        "from sklearn.linear_model import  LinearRegression,Ridge,Lasso\r\n",
        "ridge_model1 = Ridge(alpha = 0.001)\r\n",
        "ridge_model1.fit(X_train, y_train)\r\n",
        "print(f'Ridge model 1 coef: {ridge_model1.coef_}')\r\n",
        "print(\"\\n\")\r\n",
        "ridge_model2 = Ridge(alpha = 0.01)\r\n",
        "ridge_model2.fit(X_train, y_train)\r\n",
        "print(f'Ridge model 2 coef: {ridge_model2.coef_}')\r\n",
        "print(\"\\n\")\r\n",
        "ridge_model3 = Ridge(alpha = 0.05)\r\n",
        "ridge_model3.fit(X_train, y_train)\r\n",
        "print(f'Ridge model 3 coef: {ridge_model3.coef_}')\r\n",
        "print(\"\\n\")\r\n",
        "ridge_model4 = Ridge(alpha = 0.1)\r\n",
        "ridge_model4.fit(X_train, y_train)\r\n",
        "print(f'Ridge model 4 coef: {ridge_model4.coef_}')\r\n",
        "print(\"\\n\")\r\n",
        "ridge_model5 = Ridge(alpha = 1)\r\n",
        "ridge_model5.fit(X_train, y_train)\r\n",
        "print(f'Ridge model 5 coef: {ridge_model5.coef_}')\r\n",
        "print(\"\\n\")\r\n",
        "\r\n",
        "lasso_model1 = Lasso(alpha = 0.001)\r\n",
        "lasso_model1.fit(X_train, y_train)\r\n",
        "print(f'Lasso model 1 coef: {lasso_model1.coef_}')\r\n",
        "print(\"\\n\")\r\n",
        "lasso_model2 = Lasso(alpha = 0.01)\r\n",
        "lasso_model2.fit(X_train, y_train)\r\n",
        "print(f'Lasso model 2 coef: {lasso_model2.coef_}')\r\n",
        "print(\"\\n\")\r\n",
        "lasso_model3 = Lasso(alpha = 0.05)\r\n",
        "lasso_model3.fit(X_train, y_train)\r\n",
        "print(f'Lasso model 3 coef: {lasso_model3.coef_}')\r\n",
        "print(\"\\n\")\r\n",
        "lasso_model4 = Lasso(alpha = 0.1)\r\n",
        "lasso_model4.fit(X_train, y_train)\r\n",
        "print(f'Lasso model 4 coef: {lasso_model4.coef_}')\r\n",
        "print(\"\\n\")\r\n",
        "lasso_model5 = Lasso(alpha = 1)\r\n",
        "lasso_model5.fit(X_train, y_train)\r\n",
        "print(f'Lasso model 5 coef: {lasso_model5.coef_}')\r\n",
        "print(\"\\n\")"
      ],
      "execution_count": 80,
      "outputs": [
        {
          "output_type": "stream",
          "text": [
            "Ridge model 1 coef: [[ 3.57842756 -0.2478381  -1.86272372 -4.76385723 -1.90326289  1.55133569\n",
            "  -7.70127752 13.07479189 -0.57353118 -1.12982223 -1.42516982  5.30637762]]\n",
            "\n",
            "\n",
            "Ridge model 2 coef: [[ 3.56756055 -0.25297013 -1.86119551 -4.74414193 -1.89735207  1.5515269\n",
            "  -7.67482003 13.05580672 -0.55288539 -1.12538242 -1.42581273  5.30018916]]\n",
            "\n",
            "\n",
            "Ridge model 3 coef: [[ 3.52022928 -0.2750091  -1.85451428 -4.65804309 -1.87167023  1.55230637\n",
            "  -7.55945693 12.97290358 -0.46302928 -1.10587525 -1.42863632  5.27285984]]\n",
            "\n",
            "\n",
            "Ridge model 4 coef: [[ 3.46319458 -0.30086786 -1.84640635 -4.5537967  -1.84085787  1.55312463\n",
            "  -7.4201738  12.87253013 -0.3549013  -1.08199449 -1.43208938  5.23910263]]\n",
            "\n",
            "\n",
            "Ridge model 5 coef: [[ 2.72114761 -0.54884475 -1.73245952 -3.1483606  -1.45270022  1.54657108\n",
            "  -5.58879747 11.50768856  1.03043386 -0.72736143 -1.48182862  4.70656213]]\n",
            "\n",
            "\n",
            "Lasso model 1 coef: [ 3.49780486 -0.24180651 -1.84740968 -4.63384616 -1.78797063  1.50762448\n",
            " -7.5396255  12.95826143 -0.44433609 -1.0857164  -1.40075974  5.29577612]\n",
            "\n",
            "\n",
            "Lasso model 2 coef: [ 2.91194926 -0.         -1.7416354  -3.35841666 -0.80759064  1.12511126\n",
            " -6.10784375 12.34116124 -0.         -0.62915721 -1.19805867  5.18066902]\n",
            "\n",
            "\n",
            "Lasso model 3 coef: [ 0.42333148  0.         -1.20459988 -0.         -0.          0.37299074\n",
            " -1.58315473 11.90530683  0.         -0.         -0.58783001  4.05826876]\n",
            "\n",
            "\n",
            "Lasso model 4 coef: [ 0.          0.         -0.48694646  0.         -0.          0.62296582\n",
            " -0.         12.08896657  0.         -0.         -0.          3.23990459]\n",
            "\n",
            "\n",
            "Lasso model 5 coef: [-0.          0.         -0.          0.         -0.          0.\n",
            " -0.          6.67923024  0.          0.         -0.          0.        ]\n",
            "\n",
            "\n"
          ],
          "name": "stdout"
        }
      ]
    },
    {
      "cell_type": "code",
      "metadata": {
        "id": "4NHdqem8U4vo",
        "colab": {
          "base_uri": "https://localhost:8080/"
        },
        "outputId": "95abc64f-f684-4cf4-eb6d-67ba6ac8be99"
      },
      "source": [
        "#Evaluate the results of all models and choose the best performing model.\r\n",
        "print('*************************')\r\n",
        "#Lasso\r\n",
        "print(\"Lasso Train 1: \", lasso_model1.score(X_train, y_train))\r\n",
        "print(\"Lasso Test 1: \", lasso_model1.score(X_test, y_test))\r\n",
        "print('*************************')\r\n",
        "print(\"Lasso Train 2: \", lasso_model2.score(X_train, y_train))\r\n",
        "print(\"Lasso Test 2: \", lasso_model4.score(X_test, y_test))\r\n",
        "print('*************************')\r\n",
        "print(\"Lasso Train 3: \", lasso_model3.score(X_train, y_train))\r\n",
        "print(\"Lasso Test 3: \", lasso_model3.score(X_test, y_test))\r\n",
        "print('*************************')\r\n",
        "print(\"Lasso Train 4: \", lasso_model4.score(X_train, y_train))\r\n",
        "print(\"Lasso Test 4: \", lasso_model4.score(X_test, y_test))\r\n",
        "print('*************************')\r\n",
        "print(\"Lasso Train 5: \", lasso_model5.score(X_train, y_train))\r\n",
        "print(\"Lasso Test 5: \", lasso_model5.score(X_test, y_test))\r\n",
        "print('*************************')\r\n",
        "#Ridge\r\n",
        "print(\"Ridge Train 1: \", ridge_model1.score(X_train, y_train))\r\n",
        "print(\"Ridge Test 1: \", ridge_model1.score(X_test, y_test))\r\n",
        "print('*************************')\r\n",
        "print(\"Ridge Train 2: \", ridge_model2.score(X_train, y_train))\r\n",
        "print(\"Ridge Test 2: \", ridge_model2.score(X_test, y_test))\r\n",
        "print('*************************')\r\n",
        "print(\"Ridge Train 3: \", ridge_model3.score(X_train, y_train))\r\n",
        "print(\"Ridge Test 3: \", ridge_model3.score(X_test, y_test))\r\n",
        "print('*************************')\r\n",
        "print(\"Ridge Train 4: \", ridge_model4.score(X_train, y_train))\r\n",
        "print(\"Ridge Test 4: \", ridge_model4.score(X_test, y_test))\r\n",
        "print('*************************')\r\n",
        "print(\"Ridge Train 5: \", ridge_model5.score(X_train, y_train))\r\n",
        "print(\"Ridge Test 5: \", ridge_model5.score(X_test, y_test))\r\n",
        "print('*************************')\r\n",
        "\r\n",
        "\r\n",
        "#best performing model is Lasso Regression model\r\n"
      ],
      "execution_count": 81,
      "outputs": [
        {
          "output_type": "stream",
          "text": [
            "*************************\n",
            "Lasso Train 1:  0.4224818760181258\n",
            "Lasso Test 1:  -2356.348811538621\n",
            "*************************\n",
            "Lasso Train 2:  0.4214522763701364\n",
            "Lasso Test 2:  -646.1652627996583\n",
            "*************************\n",
            "Lasso Train 3:  0.41052985114420426\n",
            "Lasso Test 3:  -311.4872536222205\n",
            "*************************\n",
            "Lasso Train 4:  0.4030761254665351\n",
            "Lasso Test 4:  -646.1652627996583\n",
            "*************************\n",
            "Lasso Train 5:  0.28475507785627274\n",
            "Lasso Test 5:  -79.0924295600728\n",
            "*************************\n",
            "Ridge Train 1:  0.42249475908107814\n",
            "Ridge Test 1:  -2908.598532937504\n",
            "*************************\n",
            "Ridge Train 2:  0.42249446880534264\n",
            "Ridge Test 2:  -2830.3889450438305\n",
            "*************************\n",
            "Ridge Train 3:  0.42248763979073245\n",
            "Ridge Test 3:  -2511.159544223119\n",
            "*************************\n",
            "Ridge Train 4:  0.4224672629176939\n",
            "Ridge Test 4:  -2172.580721945512\n",
            "*************************\n",
            "Ridge Train 5:  0.42088018606854327\n",
            "Ridge Test 5:  -2191.3863557119753\n",
            "*************************\n"
          ],
          "name": "stdout"
        }
      ]
    }
  ]
}